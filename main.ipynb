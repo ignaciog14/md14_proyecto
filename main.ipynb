{
 "cells": [
  {
   "cell_type": "markdown",
   "id": "3e34c101",
   "metadata": {},
   "source": [
    "Proyecto mineria de datos:\n",
    "### Minería de Datos para Equidad Educativa en Comunas Vulnerables\n",
    "##### grupo: 14\n",
    "\n",
    "##### Integrantes: \n",
    "1) Ignacio Gabler  \n",
    "2) Cristobla Merino\n"
   ]
  },
  {
   "cell_type": "markdown",
   "id": "80949c12",
   "metadata": {},
   "source": [
    "### 1) Preprocesamiento de Datos"
   ]
  },
  {
   "cell_type": "code",
   "execution_count": null,
   "id": "aad85d98",
   "metadata": {},
   "outputs": [
    {
     "name": "stdout",
     "output_type": "stream",
     "text": [
      "archivos extraidos en: /home/ignacio/mineria_datos/md14_proyecto/datos\n"
     ]
    }
   ],
   "source": [
    "import zipfile\n",
    "import os\n",
    "import pathlib\n",
    "\n",
    "# Obtener la ruta del directorio actual\n",
    "ruta_actual = pathlib.Path().absolute()\n",
    "\n",
    "# Ruta relativa al archivo zip\n",
    "ruta_zip = os.path.join(ruta_actual, \"archive.zip\")\n",
    "# Carpeta destino\n",
    "carpeta_destino = os.path.join(ruta_actual, \"datos\")\n",
    "\n",
    "# Descomprimir\n",
    "with zipfile.ZipFile(ruta_zip, 'r') as zip_ref:\n",
    "    zip_ref.extractall(carpeta_destino)\n",
    "\n",
    "\n",
    "\n",
    "print(f\"archivos extraidos en: {carpeta_destino}\")"
   ]
  },
  {
   "cell_type": "code",
   "execution_count": 4,
   "id": "eb6989df",
   "metadata": {},
   "outputs": [
    {
     "name": "stdout",
     "output_type": "stream",
     "text": [
      "   Unnamed: 0  Gender EthnicGroup          ParentEduc     LunchType TestPrep  \\\n",
      "0           0  female         NaN   bachelor's degree      standard     none   \n",
      "1           1  female     group C        some college      standard      NaN   \n",
      "2           2  female     group B     master's degree      standard     none   \n",
      "3           3    male     group A  associate's degree  free/reduced     none   \n",
      "4           4    male     group C        some college      standard     none   \n",
      "\n",
      "  ParentMaritalStatus PracticeSport IsFirstChild  NrSiblings TransportMeans  \\\n",
      "0             married     regularly          yes         3.0     school_bus   \n",
      "1             married     sometimes          yes         0.0            NaN   \n",
      "2              single     sometimes          yes         4.0     school_bus   \n",
      "3             married         never           no         1.0            NaN   \n",
      "4             married     sometimes          yes         0.0     school_bus   \n",
      "\n",
      "  WklyStudyHours  MathScore  ReadingScore  WritingScore  \n",
      "0            < 5         71            71            74  \n",
      "1         5 - 10         69            90            88  \n",
      "2            < 5         87            93            91  \n",
      "3         5 - 10         45            56            42  \n",
      "4         5 - 10         76            78            75  \n",
      "<class 'pandas.core.frame.DataFrame'>\n",
      "RangeIndex: 30641 entries, 0 to 30640\n",
      "Data columns (total 15 columns):\n",
      " #   Column               Non-Null Count  Dtype  \n",
      "---  ------               --------------  -----  \n",
      " 0   Unnamed: 0           30641 non-null  int64  \n",
      " 1   Gender               30641 non-null  object \n",
      " 2   EthnicGroup          28801 non-null  object \n",
      " 3   ParentEduc           28796 non-null  object \n",
      " 4   LunchType            30641 non-null  object \n",
      " 5   TestPrep             28811 non-null  object \n",
      " 6   ParentMaritalStatus  29451 non-null  object \n",
      " 7   PracticeSport        30010 non-null  object \n",
      " 8   IsFirstChild         29737 non-null  object \n",
      " 9   NrSiblings           29069 non-null  float64\n",
      " 10  TransportMeans       27507 non-null  object \n",
      " 11  WklyStudyHours       29686 non-null  object \n",
      " 12  MathScore            30641 non-null  int64  \n",
      " 13  ReadingScore         30641 non-null  int64  \n",
      " 14  WritingScore         30641 non-null  int64  \n",
      "dtypes: float64(1), int64(4), object(10)\n",
      "memory usage: 3.5+ MB\n",
      "None\n",
      "Unnamed: 0                0\n",
      "Gender                    0\n",
      "EthnicGroup            1840\n",
      "ParentEduc             1845\n",
      "LunchType                 0\n",
      "TestPrep               1830\n",
      "ParentMaritalStatus    1190\n",
      "PracticeSport           631\n",
      "IsFirstChild            904\n",
      "NrSiblings             1572\n",
      "TransportMeans         3134\n",
      "WklyStudyHours          955\n",
      "MathScore                 0\n",
      "ReadingScore              0\n",
      "WritingScore              0\n",
      "dtype: int64\n"
     ]
    }
   ],
   "source": [
    "import pandas as pd\t\n",
    "# Cargar el dataset desde archivo local (ajusta el nombre si es distinto)\n",
    "df = pd.read_csv(\"datos/Expanded_data_with_more_features.csv\")\n",
    "\n",
    "# Ver las primeras filas del dataset\n",
    "print(df.head())\n",
    "\n",
    "# Ver resumen de columnas y tipos de datos\n",
    "print(df.info())\n",
    "\n",
    "# Ver si hay valores faltantes (NaN)\n",
    "print(df.isnull().sum())\n"
   ]
  }
 ],
 "metadata": {
  "kernelspec": {
   "display_name": "Python 3",
   "language": "python",
   "name": "python3"
  },
  "language_info": {
   "codemirror_mode": {
    "name": "ipython",
    "version": 3
   },
   "file_extension": ".py",
   "mimetype": "text/x-python",
   "name": "python",
   "nbconvert_exporter": "python",
   "pygments_lexer": "ipython3",
   "version": "3.12.2"
  }
 },
 "nbformat": 4,
 "nbformat_minor": 5
}
